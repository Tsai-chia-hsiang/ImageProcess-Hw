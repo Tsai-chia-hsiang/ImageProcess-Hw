{
 "cells": [
  {
   "attachments": {},
   "cell_type": "markdown",
   "metadata": {},
   "source": [
    "## Set Environment"
   ]
  },
  {
   "cell_type": "code",
   "execution_count": 1,
   "metadata": {},
   "outputs": [],
   "source": [
    "import os\n",
    "from tqdm import tqdm\n",
    "from ColorIMGkit.cimgcvtr import DomainConvertor as dcvtor\n",
    "from ColorIMGkit.histEQ import ColorHistEQ\n",
    "from ColorIMGkit.sharpening import RGBSharpener\n",
    "from ColorIMGkit.RGBimgIO import readimgs, saveimgs, rgbimg\n",
    "\n",
    "converter = dcvtor()\n",
    "histeq = ColorHistEQ()\n",
    "rgbsharpler = RGBSharpener()\n",
    "\n",
    "def makepath(p):\n",
    "    if not os.path.exists(p):\n",
    "        os.mkdir(p)\n",
    "    return p\n"
   ]
  },
  {
   "cell_type": "code",
   "execution_count": 2,
   "metadata": {},
   "outputs": [],
   "source": [
    "testimgsdir =os.path.join(\"HW3_test_image\")\n",
    "resultdir = makepath(os.path.join(\"result\"))"
   ]
  },
  {
   "attachments": {},
   "cell_type": "markdown",
   "metadata": {},
   "source": [
    "## Enhance Function for numbers of images using"
   ]
  },
  {
   "attachments": {},
   "cell_type": "markdown",
   "metadata": {},
   "source": [
    "### Histogram equalizer"
   ]
  },
  {
   "cell_type": "code",
   "execution_count": 3,
   "metadata": {},
   "outputs": [],
   "source": [
    "def HistorgramEQ(imgs_ , domain):\n",
    "    imgs = []\n",
    "    print(f\"Hist in {domain}\")\n",
    "    pbar = tqdm(imgs_)\n",
    "    for img in pbar:\n",
    "        pbar.set_postfix_str(f\"{img.name}\")\n",
    "        d = converter.convert(img.img, fromD=\"rgb\", toD = domain)\n",
    "        d = histeq.transform(img=d,domain=domain)\n",
    "        rgb = converter.convert(d, fromD = domain, toD=\"rgb\")\n",
    "        imgs.append(rgbimg(name=img.name, img=rgb))\n",
    "    return imgs \n"
   ]
  },
  {
   "attachments": {},
   "cell_type": "markdown",
   "metadata": {},
   "source": [
    "## sharpener"
   ]
  },
  {
   "cell_type": "code",
   "execution_count": 4,
   "metadata": {},
   "outputs": [],
   "source": [
    "def RGBSharpening(imgs_, strong_mask=False):\n",
    "    print(f\"RGB sharpening\")\n",
    "    imgs = []\n",
    "    pbar = tqdm(imgs_)\n",
    "    for img in pbar:\n",
    "        pbar.set_postfix_str(f\"{img.name}\")\n",
    "        rgb = rgbsharpler.Laplacian_Sharpening(\n",
    "            img.img,strong_mask=strong_mask\n",
    "        )\n",
    "        imgs.append(rgbimg(name=img.name, img=rgb))\n",
    "    return imgs\n"
   ]
  },
  {
   "attachments": {},
   "cell_type": "markdown",
   "metadata": {},
   "source": [
    "## Read & Enhance"
   ]
  },
  {
   "cell_type": "code",
   "execution_count": 5,
   "metadata": {},
   "outputs": [
    {
     "name": "stderr",
     "output_type": "stream",
     "text": [
      "100%|██████████| 4/4 [00:00<00:00, 181.67it/s]\n"
     ]
    }
   ],
   "source": [
    "imgs = readimgs(imgdir=testimgsdir)"
   ]
  },
  {
   "attachments": {},
   "cell_type": "markdown",
   "metadata": {},
   "source": [
    "### historgram eqaulization on RGB "
   ]
  },
  {
   "cell_type": "code",
   "execution_count": 6,
   "metadata": {},
   "outputs": [
    {
     "name": "stdout",
     "output_type": "stream",
     "text": [
      "Hist in rgb\n"
     ]
    },
    {
     "name": "stderr",
     "output_type": "stream",
     "text": [
      "100%|██████████| 4/4 [00:00<00:00,  8.07it/s, kitchen.jpg]\n"
     ]
    },
    {
     "name": "stdout",
     "output_type": "stream",
     "text": [
      "save at result\\RGB_directly_hist\n"
     ]
    },
    {
     "name": "stderr",
     "output_type": "stream",
     "text": [
      "100%|██████████| 4/4 [00:00<00:00, 190.21it/s]\n"
     ]
    }
   ],
   "source": [
    "rgbhis= HistorgramEQ(imgs_=imgs, domain=\"rgb\")\n",
    "saveimgs(\n",
    "    imgs=rgbhis, \n",
    "    savepath=makepath(\n",
    "        os.path.join(resultdir,\"RGB_directly_hist\")\n",
    "    )\n",
    ")"
   ]
  },
  {
   "attachments": {},
   "cell_type": "markdown",
   "metadata": {},
   "source": [
    "### historgram eqaulization on HSI"
   ]
  },
  {
   "cell_type": "code",
   "execution_count": 7,
   "metadata": {},
   "outputs": [
    {
     "name": "stdout",
     "output_type": "stream",
     "text": [
      "Hist in hsi\n"
     ]
    },
    {
     "name": "stderr",
     "output_type": "stream",
     "text": [
      "100%|██████████| 4/4 [00:00<00:00,  8.24it/s, kitchen.jpg]\n"
     ]
    },
    {
     "name": "stdout",
     "output_type": "stream",
     "text": [
      "save at result\\HistEQ_HSI\n"
     ]
    },
    {
     "name": "stderr",
     "output_type": "stream",
     "text": [
      "100%|██████████| 4/4 [00:00<00:00, 210.57it/s]\n"
     ]
    }
   ],
   "source": [
    "hsihis = HistorgramEQ(imgs_=imgs, domain=\"hsi\")\n",
    "saveimgs(\n",
    "    imgs=hsihis, \n",
    "    savepath=makepath(\n",
    "        os.path.join(resultdir,\"HistEQ_HSI\")\n",
    "    )\n",
    ")\n"
   ]
  },
  {
   "attachments": {},
   "cell_type": "markdown",
   "metadata": {},
   "source": [
    "### Laplacian Sharpening on RGB "
   ]
  },
  {
   "cell_type": "code",
   "execution_count": 8,
   "metadata": {},
   "outputs": [
    {
     "name": "stdout",
     "output_type": "stream",
     "text": [
      "RGB sharpening\n"
     ]
    },
    {
     "name": "stderr",
     "output_type": "stream",
     "text": [
      "100%|██████████| 4/4 [00:00<00:00,  8.28it/s, kitchen.jpg]\n"
     ]
    },
    {
     "name": "stdout",
     "output_type": "stream",
     "text": [
      "save at result\\RGBSharpening\n"
     ]
    },
    {
     "name": "stderr",
     "output_type": "stream",
     "text": [
      "100%|██████████| 4/4 [00:00<00:00, 116.86it/s]\n"
     ]
    }
   ],
   "source": [
    "rgbsh = RGBSharpening(imgs_=imgs,strong_mask=False)\n",
    "saveimgs(\n",
    "    imgs=rgbsh, \n",
    "    savepath=makepath(\n",
    "        os.path.join(resultdir,\"RGBSharpening\")\n",
    "        )\n",
    ")\n"
   ]
  },
  {
   "attachments": {},
   "cell_type": "markdown",
   "metadata": {},
   "source": [
    "### historgram eqaulization on HSI & Laplacian Sharpening on RGB "
   ]
  },
  {
   "cell_type": "code",
   "execution_count": 9,
   "metadata": {},
   "outputs": [
    {
     "name": "stdout",
     "output_type": "stream",
     "text": [
      "Hist in hsi\n"
     ]
    },
    {
     "name": "stderr",
     "output_type": "stream",
     "text": [
      "100%|██████████| 4/4 [00:00<00:00,  7.49it/s, kitchen.jpg]\n"
     ]
    },
    {
     "name": "stdout",
     "output_type": "stream",
     "text": [
      "save at result\\sharp_n_hist\n"
     ]
    },
    {
     "name": "stderr",
     "output_type": "stream",
     "text": [
      "100%|██████████| 4/4 [00:00<00:00, 181.84it/s]\n"
     ]
    }
   ],
   "source": [
    "sharp_n_his = HistorgramEQ(imgs_= rgbsh, domain=\"hsi\")\n",
    "saveimgs(\n",
    "    imgs=sharp_n_his,\n",
    "    savepath=makepath(\n",
    "        os.path.join(resultdir,\"sharp_n_hist\")\n",
    "    )\n",
    ")\n"
   ]
  }
 ],
 "metadata": {
  "kernelspec": {
   "display_name": "py",
   "language": "python",
   "name": "python3"
  },
  "language_info": {
   "codemirror_mode": {
    "name": "ipython",
    "version": 3
   },
   "file_extension": ".py",
   "mimetype": "text/x-python",
   "name": "python",
   "nbconvert_exporter": "python",
   "pygments_lexer": "ipython3",
   "version": "3.11.3"
  },
  "orig_nbformat": 4
 },
 "nbformat": 4,
 "nbformat_minor": 2
}
